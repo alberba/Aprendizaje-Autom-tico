{
 "cells": [
  {
   "cell_type": "markdown",
   "metadata": {},
   "source": [
    "# Informe de la Práctica 1 \n",
    "\n",
    "**- Albert Salom Vanrell**\n",
    "\n",
    "**- Àngel Jiménez Sanchis**\n",
    "\n",
    "\n",
    "El objetivo de esta práctica es desarrollar y evaluar un modelo de aprendizaje automático basado en máquinas de vectores de soporte (SVM) para clasificar correctamente imágenes de caras de perros y gatos usando el conjunto de datos \"Dog and Cat Detection\" de Kaggle.\n",
    "\n",
    "Para realizar la clasificación se ha utilizado el Histogram of Oriented Gradients (HoG), que procesa las imágenes del conjunto de datos de una en una basándose en una configuración específica de parámetros establecida por nosotros y nos devuelve un vector de características, el cuál se guarda en un fichero.\n",
    "\n",
    "Este fichero de características, junto con el fichero donde guardamos las etiquetas serán nuestras \"X\",\"y\" del modelo SVM respectivamente.\n",
    "\n",
    "Este modelo SVM, se ha entrenado usando 3 tipos distintos de Kernels (Lineal, Polinómico y RBF), donde los hiperparámetros se ajustaron mediante la búsqueda exhaustiva (Grid Search) combinada con el método K-Fold, posible gracias a la función \"GridSearchCV\". \n",
    "\n",
    "\n",
    "# Estudio del HoG\n",
    "\n"
   ]
  }
 ],
 "metadata": {
  "language_info": {
   "name": "python"
  }
 },
 "nbformat": 4,
 "nbformat_minor": 2
}
