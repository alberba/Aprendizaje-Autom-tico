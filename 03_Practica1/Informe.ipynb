{
 "cells": [
  {
   "cell_type": "markdown",
   "metadata": {},
   "source": [
    "# Informe de la Práctica 1 \n",
    "\n",
    "**- Albert Salom Vanrell**\n",
    "\n",
    "**- Àngel Jiménez Sanchis**\n",
    "\n",
    "\n",
    "## Contextualización\n",
    "\n",
    "El objetivo de esta práctica es desarrollar y evaluar un modelo de aprendizaje automático basado en máquinas de vectores de soporte (SVM) para clasificar correctamente imágenes de caras de perros y gatos usando el conjunto de datos \"Dog and Cat Detection\" de Kaggle.\n",
    "\n",
    "Para ello, se ha utilizado el Histogram of Oriented Gradients (HoG), que procesa las imágenes del conjunto de datos basándose en una configuración específica de parámetros establecida por nosotros y devuelve un vector de características, el cuál se guarda en un fichero.\n",
    "\n",
    "Este fichero de características, junto con el fichero donde guardamos las etiquetas serán nuestras \"X\" e \"y\" del modelo SVM respectivamente.\n",
    "\n",
    "Este modelo SVM, se ha entrenado usando 3 tipos distintos de Kernels (Lineal, Polinómico y RBF), donde sus hiperparámetros se ajustaron mediante la búsqueda exhaustiva (Grid Search) combinada con el método K-Fold, posible gracias a la función \"GridSearchCV\". \n",
    "\n",
    "Por tanto, para cada tipo de kernel, con \"best_estimator\" guardamos el mejor modelo encontrado por \"GridSearchCV\" y con \"best_params\" obtenemos cuales han sido sus mejores hiperparámetros. De la misma forma, con \"best_score\", obtenemos la mejor precisión media obtenida por el modelo.\n",
    "\n",
    "Finalmente, después de entrenar y seleccionar el mejor modelo para cada tipo de kernel, realizamos la predicción con las muestras guardadas para el test y se procede con su evaluación para ver cuál de ellos obtiene mejores resultados, usando métricas como \"accuracy, precision, recall, F1...\"\n",
    "\n",
    "\n",
    "## Estudio del HoG\n",
    "\n",
    "(PARA NO PERDER LA INFO --->)\n",
    "Configuración Óptima de HoG para Imágenes 64x64\n",
    "Para imágenes de 64x64 píxeles:\n",
    "\n",
    "Configuración recomendada: ppc=(8, 8), cpb=(2, 2), o=9.\n",
    "Razonamiento: Con ppc=(8, 8), cada celda tendrá 8x8 píxeles, lo que permite capturar detalles sin ser demasiado sensible al ruido o variaciones menores en la imagen. El cpb=(2, 2) proporciona un buen equilibrio entre la captura de información de contraste y la prevención del overfitting al normalizar sobre bloques suficientemente grandes. Finalmente, o=9 ofrece una buena cobertura de las orientaciones de los gradientes sin ser excesivamente complejo.\n",
    "Experimentación con Otras Configuraciones\n",
    "ppc=(4, 4), cpb=(2, 2), o=9:\n",
    "\n",
    "Observación: Proporciona características muy detalladas. Sin embargo, en imágenes con fondos complejos, este ajuste puede capturar demasiado ruido y detalles innecesarios, llevando a overfitting.\n",
    "ppc=(4, 4), cpb=(8, 8), o=9:\n",
    "\n",
    "Problema: La configuración cpb=(8, 8) en una imagen pequeña puede llevar a bloques que abarquen casi toda la imagen, reduciendo la capacidad de capturar variaciones locales importantes y siendo ineficaz en la normalización contra variaciones de iluminación y sombra.\n",
    "ppc=(6, 6), cpb=(2, 2), o=9:\n",
    "\n",
    "Observación: Intermedio entre las dos configuraciones anteriores, puede ser una alternativa viable pero aún puede no ser óptima para detectar patrones finos en imágenes pequeñas.\n",
    "ppc=(8, 8), cpb=(4, 4), o=12:\n",
    "\n",
    "Análisis: Aumentar el número de orientaciones a 12 aumenta la dimensionalidad del descriptor, lo cual puede ser útil para imágenes más complejas o de mayor resolución, pero en imágenes de 64x64 podría ser más de lo necesario y podría contribuir al overfitting.\n",
    "Impacto de los Fondos en la Extracción de Características HoG\n",
    "Fondos Simples vs. Complejos: Los fondos simples permiten que HoG capture eficientemente las características relevantes de los objetos de interés (perros y gatos en este caso) sin distracciones. En contraste, los fondos complejos pueden introducir gradientes irrelevantes que podrían confundirse con características importantes del objeto de interés, especialmente con configuraciones de HoG que capturan detalles muy finos (ppc=(4, 4)).\n",
    "Conclusión\n",
    "Para redactar esta sección de tu informe, describe cómo cada configuración fue evaluada con las imágenes proporcionadas, destacando cómo los fondos afectan la efectividad de cada configuración de HoG. Esta evaluación te permitirá justificar la elección de la configuración óptima basada en un equilibrio entre detalle, robustez y prevención de overfitting, adaptada a las características específicas del conjunto de datos utilizado.\n"
   ]
  },
  {
   "cell_type": "code",
   "execution_count": null,
   "metadata": {},
   "outputs": [],
   "source": []
  }
 ],
 "metadata": {
  "kernelspec": {
   "display_name": "Python 3 (ipykernel)",
   "language": "python",
   "name": "python3"
  },
  "language_info": {
   "codemirror_mode": {
    "name": "ipython",
    "version": 3
   },
   "file_extension": ".py",
   "mimetype": "text/x-python",
   "name": "python",
   "nbconvert_exporter": "python",
   "pygments_lexer": "ipython3",
   "version": "3.12.5"
  }
 },
 "nbformat": 4,
 "nbformat_minor": 4
}
