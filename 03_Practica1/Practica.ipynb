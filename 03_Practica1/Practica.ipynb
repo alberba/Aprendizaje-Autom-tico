{
 "cells": [
  {
   "cell_type": "code",
   "execution_count": null,
   "metadata": {
    "vscode": {
     "languageId": "plaintext"
    }
   },
   "outputs": [],
   "source": [
    "import os\n",
    "import time\n",
    "import pandas as pd\n",
    "from matplotlib import pyplot as plt\n",
    "import numpy as np\n",
    "import xml.etree.ElementTree as etree\n",
    "import skimage\n",
    "from skimage.io import imread\n",
    "from skimage.transform import resize\n",
    "from sklearn.preprocessing import StandardScaler\n",
    "from sklearn.metrics import accuracy_score, f1_score, precision_score, recall_score\n",
    "from sklearn.model_selection import GridSearchCV, train_test_split\n",
    "from sklearn.svm import SVC"
   ]
  },
  {
   "cell_type": "code",
   "execution_count": null,
   "metadata": {},
   "outputs": [],
   "source": [
    "#Parsetja el fitxer xml i recupera la informació necessaria per trobar la cara de l'animal\n",
    "#\n",
    "def extract_xml_annotation(filename):\n",
    "    \"\"\"Parse the xml file\n",
    "    :param filename: str\n",
    "    :return annotation: diccionari\n",
    "    \"\"\"\n",
    "    z = etree.parse(filename)\n",
    "    objects = z.findall('./object')\n",
    "    size = (int(float(z.find('.//width').text)), int(float(z.find('.//height').text)))\n",
    "    dds = []\n",
    "    for obj in objects:\n",
    "        dds.append(obj.find('name').text)\n",
    "        dds.append([int(float(obj.find('bndbox/xmin').text)),\n",
    "                                      int(float(obj.find('bndbox/ymin').text)),\n",
    "                                      int(float(obj.find('bndbox/xmax').text)),\n",
    "                                      int(float(obj.find('bndbox/ymax').text))])\n",
    "\n",
    "    return {'size': size, 'informacio': dds}\n",
    "\n",
    "# Selecciona la cara de l'animal i la transforma a la mida indicat al paràmetre mida_desti\n",
    "def retall_normalitzat(imatge, dades, mida_desti=(64,64)):\n",
    "    \"\"\"\n",
    "    Extreu la regió de la cara (ROI) i retorna una nova imatge de la mida_destí\n",
    "    :param imatge: imatge que conté un animal\n",
    "    :param dades: diccionari extret del xml\n",
    "    :mida_desti: tupla que conté la mida que obtindrà la cara de l'animal\n",
    "    \"\"\"\n",
    "    x, y, ample, alt = dades['informacio'][1]\n",
    "    retall = np.copy(imatge[y:alt, x:ample])\n",
    "    return resize(retall, mida_desti)"
   ]
  },
  {
   "cell_type": "code",
   "execution_count": null,
   "metadata": {},
   "outputs": [],
   "source": [
    "def obtenir_dades(carpeta_imatges, carpeta_anotacions, mida=(64, 64)):\n",
    "    \"\"\"Genera la col·lecció de cares d'animals i les corresponents etiquetes\n",
    "    :param carpeta_imatges: string amb el path a la carpeta d'imatges\n",
    "    :param carpeta_anotacions: string amb el path a la carpeta d'anotacions\n",
    "    :param mida: tupla que conté la mida que obtindrà la cara de l'animal\n",
    "    :return:\n",
    "        images: numpy array 3D amb la col·lecció de cares\n",
    "        etiquetes: llista binaria 0 si l'animal és un moix 1 en cas contrari\n",
    "    \"\"\"\n",
    "\n",
    "    n_elements = len([entry for entry in os.listdir(carpeta_imatges) if os.path.isfile(os.path.join(carpeta_imatges, entry))])\n",
    "    # Una matriu 3D: mida x mida x nombre d'imatges\n",
    "    imatges = np.zeros((mida[0], mida[1], n_elements), dtype=np.float16)\n",
    "    # Una llista d'etiquetes\n",
    "    etiquetes = [0] * n_elements\n",
    "\n",
    "    #  Recorre els elements de les dues carpetes: llegeix una imatge i obté la informació interessant del xml\n",
    "    with os.scandir(carpeta_imatges) as elements:\n",
    "\n",
    "        for idx, element in enumerate(elements):\n",
    "            nom = element.name.split(\".\")\n",
    "            nom_fitxer = nom[0] + \".xml\"\n",
    "            imatge = imread(carpeta_imatges + os.sep + element.name, as_gray=True)\n",
    "            anotacions = extract_xml_annotation(carpeta_anotacions + os.sep + nom_fitxer)\n",
    "\n",
    "            cara_animal = retall_normalitzat(imatge, anotacions, mida)\n",
    "            tipus_animal = anotacions[\"informacio\"][0]\n",
    "\n",
    "            imatges[:, :, idx] = cara_animal\n",
    "            etiquetes[idx] = 0 if tipus_animal == \"cat\" else 1\n",
    "\n",
    "    return imatges, etiquetes"
   ]
  }
 ],
 "metadata": {
  "language_info": {
   "name": "python"
  }
 },
 "nbformat": 4,
 "nbformat_minor": 2
}
