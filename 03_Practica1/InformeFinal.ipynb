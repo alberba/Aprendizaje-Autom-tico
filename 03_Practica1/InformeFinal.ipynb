{
 "cells": [
  {
   "cell_type": "markdown",
   "metadata": {},
   "source": [
    "# Informe de la Práctica 1 \n",
    "\n",
    "**- Albert Salom Vanrell**\n",
    "\n",
    "**- Àngel Jiménez Sanchis**\n",
    "\n",
    "\n",
    "## Contextualización\n",
    "\n",
    "Para comenzar, utilizaremos un dataset de imágenes de perros y gatos titulado 'Dog and Cat Detection' de Kaggle. Este conjunto de datos incluye imágenes etiquetadas para indicar si corresponde a un perro o a un gato. Además, las imágenes estarán recortadas, mostrando únicamente la cabeza de cada animal.\n",
    "\n",
    "\n",
    "\n",
    "## HOG\n",
    "\n",
    "Una vez cargado el dataset, procederemos a extraer las características de cada foto para luego proceder a entrenar el modelo. Para realizar el hog, primero hemos de definir la configuración de este.\n",
    "\n",
    "A partir de varias pruebas, hemos considerado que los valores óptimos para el HOG son los siguientes:\n",
    "\n",
    "```python\n",
    "{'ppc': (8, 8), 'cpb': (2, 2), 'o': 9}\n",
    "```\n",
    "\n"
   ]
  },
  {
   "cell_type": "code",
   "execution_count": null,
   "metadata": {
    "vscode": {
     "languageId": "plaintext"
    }
   },
   "outputs": [],
   "source": [
    "hog_configs = [\n",
    "    #{'ppc': (4, 4), 'cpb': (2, 2), 'o': 9},\n",
    "    #{'ppc': (4, 4), 'cpb': (8, 8), 'o': 9},\n",
    "    #{'ppc': (6, 6), 'cpb': (2, 2), 'o': 9},\n",
    "    {'ppc': (8, 8), 'cpb': (2, 2), 'o': 9}\n",
    "    #{'ppc': (8, 8), 'cpb': (2, 2), 'o': 18}\n",
    "]\n",
    "\n",
    "# Probar cada configuración en todas las imágenes\n",
    "for config in hog_configs:\n",
    "    \n",
    "    features_list = []\n",
    "    \n",
    "    for i in range(imatges.shape[2]): # Iterar sobre todas las imágenes\n",
    "        # Obtener características HoG para cada imagen\n",
    "        caracteristiques = obtenirHoG(imatges[:,:,i], \n",
    "                                      ppc = config['ppc'], \n",
    "                                      cpb = config['cpb'], \n",
    "                                      o = config['o'])\n",
    "        \n",
    "        features_list.append(caracteristiques)\n",
    "    \n",
    "    # Convertir la lista de características en un array numpy\n",
    "    caracteristiques_hog = np.array(features_list)\n",
    "    \n",
    "    # Guardar las características de cada configuración en un archivo\n",
    "    filename = f\"caracteristiques_hog_ppc{config['ppc'][0]}_cpb{config['cpb'][0]}_o{config['o']}.npy\"\n",
    "    np.save(filename, caracteristiques_hog)\n",
    "    print(f\"Guardadas todas las características en {filename}\")"
   ]
  },
  {
   "cell_type": "code",
   "execution_count": null,
   "metadata": {
    "vscode": {
     "languageId": "plaintext"
    }
   },
   "outputs": [],
   "source": []
  }
 ],
 "metadata": {
  "language_info": {
   "name": "python"
  }
 },
 "nbformat": 4,
 "nbformat_minor": 2
}
